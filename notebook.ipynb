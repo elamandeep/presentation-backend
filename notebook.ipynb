{
 "cells": [
  {
   "cell_type": "code",
   "execution_count": 1,
   "metadata": {},
   "outputs": [],
   "source": [
    "import geopandas as  gpd\n",
    "import pandas as pd\n",
    "import shapely"
   ]
  },
  {
   "cell_type": "code",
   "execution_count": 2,
   "metadata": {},
   "outputs": [
    {
     "data": {
      "text/html": [
       "<div>\n",
       "<style scoped>\n",
       "    .dataframe tbody tr th:only-of-type {\n",
       "        vertical-align: middle;\n",
       "    }\n",
       "\n",
       "    .dataframe tbody tr th {\n",
       "        vertical-align: top;\n",
       "    }\n",
       "\n",
       "    .dataframe thead th {\n",
       "        text-align: right;\n",
       "    }\n",
       "</style>\n",
       "<table border=\"1\" class=\"dataframe\">\n",
       "  <thead>\n",
       "    <tr style=\"text-align: right;\">\n",
       "      <th></th>\n",
       "      <th>OBJECTID</th>\n",
       "      <th>PROVINCE</th>\n",
       "      <th>PR_NAME</th>\n",
       "      <th>geometry</th>\n",
       "    </tr>\n",
       "  </thead>\n",
       "  <tbody>\n",
       "    <tr>\n",
       "      <th>0</th>\n",
       "      <td>1</td>\n",
       "      <td>1</td>\n",
       "      <td>Province No 1</td>\n",
       "      <td>POLYGON ((86.90653 26.48796, 86.90722 26.48801...</td>\n",
       "    </tr>\n",
       "    <tr>\n",
       "      <th>1</th>\n",
       "      <td>2</td>\n",
       "      <td>2</td>\n",
       "      <td>Province No 2</td>\n",
       "      <td>POLYGON ((85.18314 27.25429, 85.18161 27.25413...</td>\n",
       "    </tr>\n",
       "    <tr>\n",
       "      <th>2</th>\n",
       "      <td>3</td>\n",
       "      <td>3</td>\n",
       "      <td>Bagmati Pradesh</td>\n",
       "      <td>POLYGON ((86.51798 27.95636, 86.51726 27.95648...</td>\n",
       "    </tr>\n",
       "    <tr>\n",
       "      <th>3</th>\n",
       "      <td>4</td>\n",
       "      <td>4</td>\n",
       "      <td>Gandaki Pradesh</td>\n",
       "      <td>POLYGON ((85.05729 28.32867, 85.06286 28.333, ...</td>\n",
       "    </tr>\n",
       "    <tr>\n",
       "      <th>4</th>\n",
       "      <td>5</td>\n",
       "      <td>5</td>\n",
       "      <td>Province No 5</td>\n",
       "      <td>POLYGON ((83.14741 28.74703, 83.14726 28.74705...</td>\n",
       "    </tr>\n",
       "    <tr>\n",
       "      <th>5</th>\n",
       "      <td>6</td>\n",
       "      <td>6</td>\n",
       "      <td>Karnali Pradesh</td>\n",
       "      <td>POLYGON ((83.68213 29.1235, 83.68249 29.12341,...</td>\n",
       "    </tr>\n",
       "    <tr>\n",
       "      <th>6</th>\n",
       "      <td>7</td>\n",
       "      <td>7</td>\n",
       "      <td>Sudurpashchim Pradesh</td>\n",
       "      <td>POLYGON ((81.27372 30.04528, 81.27256 30.04484...</td>\n",
       "    </tr>\n",
       "  </tbody>\n",
       "</table>\n",
       "</div>"
      ],
      "text/plain": [
       "   OBJECTID  PROVINCE                PR_NAME  \\\n",
       "0         1         1          Province No 1   \n",
       "1         2         2          Province No 2   \n",
       "2         3         3        Bagmati Pradesh   \n",
       "3         4         4        Gandaki Pradesh   \n",
       "4         5         5          Province No 5   \n",
       "5         6         6        Karnali Pradesh   \n",
       "6         7         7  Sudurpashchim Pradesh   \n",
       "\n",
       "                                            geometry  \n",
       "0  POLYGON ((86.90653 26.48796, 86.90722 26.48801...  \n",
       "1  POLYGON ((85.18314 27.25429, 85.18161 27.25413...  \n",
       "2  POLYGON ((86.51798 27.95636, 86.51726 27.95648...  \n",
       "3  POLYGON ((85.05729 28.32867, 85.06286 28.333, ...  \n",
       "4  POLYGON ((83.14741 28.74703, 83.14726 28.74705...  \n",
       "5  POLYGON ((83.68213 29.1235, 83.68249 29.12341,...  \n",
       "6  POLYGON ((81.27372 30.04528, 81.27256 30.04484...  "
      ]
     },
     "execution_count": 2,
     "metadata": {},
     "output_type": "execute_result"
    }
   ],
   "source": [
    "gs = gpd.read_file(\"./province.geojson\")\n",
    "gs"
   ]
  },
  {
   "cell_type": "code",
   "execution_count": 3,
   "metadata": {},
   "outputs": [
    {
     "ename": "IndexError",
     "evalue": "index 0 is out of bounds for axis 0 with size 0",
     "output_type": "error",
     "traceback": [
      "\u001b[1;31m---------------------------------------------------------------------------\u001b[0m",
      "\u001b[1;31mIndexError\u001b[0m                                Traceback (most recent call last)",
      "Cell \u001b[1;32mIn[3], line 4\u001b[0m\n\u001b[0;32m      1\u001b[0m df \u001b[38;5;241m=\u001b[39m pd\u001b[38;5;241m.\u001b[39mDataFrame(gs)\n\u001b[0;32m      2\u001b[0m result \u001b[38;5;241m=\u001b[39m df[df[\u001b[38;5;124m\"\u001b[39m\u001b[38;5;124mPR_NAME\u001b[39m\u001b[38;5;124m\"\u001b[39m]\u001b[38;5;241m.\u001b[39mstr\u001b[38;5;241m.\u001b[39mlower() \u001b[38;5;241m==\u001b[39m \u001b[38;5;124m\"\u001b[39m\u001b[38;5;124mGandaki Pradesh\u001b[39m\u001b[38;5;124m\"\u001b[39m]\u001b[38;5;241m.\u001b[39mloc[:, [\u001b[38;5;124m\"\u001b[39m\u001b[38;5;124mPR_NAME\u001b[39m\u001b[38;5;124m\"\u001b[39m, \u001b[38;5;124m\"\u001b[39m\u001b[38;5;124mgeometry\u001b[39m\u001b[38;5;124m\"\u001b[39m]]\n\u001b[1;32m----> 4\u001b[0m geometry \u001b[38;5;241m=\u001b[39m \u001b[43mresult\u001b[49m\u001b[43m[\u001b[49m\u001b[38;5;124;43m\"\u001b[39;49m\u001b[38;5;124;43mgeometry\u001b[39;49m\u001b[38;5;124;43m\"\u001b[39;49m\u001b[43m]\u001b[49m\u001b[38;5;241;43m.\u001b[39;49m\u001b[43mvalues\u001b[49m\u001b[43m[\u001b[49m\u001b[38;5;241;43m0\u001b[39;49m\u001b[43m]\u001b[49m\n\u001b[0;32m      6\u001b[0m shapely\u001b[38;5;241m.\u001b[39mto_geojson(geometry)\n",
      "File \u001b[1;32md:\\presentation\\backend\\venv\\Lib\\site-packages\\geopandas\\array.py:422\u001b[0m, in \u001b[0;36mGeometryArray.__getitem__\u001b[1;34m(self, idx)\u001b[0m\n\u001b[0;32m    420\u001b[0m \u001b[38;5;28;01mdef\u001b[39;00m \u001b[38;5;21m__getitem__\u001b[39m(\u001b[38;5;28mself\u001b[39m, idx):\n\u001b[0;32m    421\u001b[0m     \u001b[38;5;28;01mif\u001b[39;00m \u001b[38;5;28misinstance\u001b[39m(idx, numbers\u001b[38;5;241m.\u001b[39mIntegral):\n\u001b[1;32m--> 422\u001b[0m         \u001b[38;5;28;01mreturn\u001b[39;00m \u001b[38;5;28;43mself\u001b[39;49m\u001b[38;5;241;43m.\u001b[39;49m\u001b[43m_data\u001b[49m\u001b[43m[\u001b[49m\u001b[43midx\u001b[49m\u001b[43m]\u001b[49m\n\u001b[0;32m    423\u001b[0m     \u001b[38;5;66;03m# array-like, slice\u001b[39;00m\n\u001b[0;32m    424\u001b[0m     \u001b[38;5;66;03m# validate and convert IntegerArray/BooleanArray\u001b[39;00m\n\u001b[0;32m    425\u001b[0m     \u001b[38;5;66;03m# to numpy array, pass-through non-array-like indexers\u001b[39;00m\n\u001b[0;32m    426\u001b[0m     idx \u001b[38;5;241m=\u001b[39m pd\u001b[38;5;241m.\u001b[39mapi\u001b[38;5;241m.\u001b[39mindexers\u001b[38;5;241m.\u001b[39mcheck_array_indexer(\u001b[38;5;28mself\u001b[39m, idx)\n",
      "\u001b[1;31mIndexError\u001b[0m: index 0 is out of bounds for axis 0 with size 0"
     ]
    }
   ],
   "source": [
    "df = pd.DataFrame(gs)\n",
    "result = df[df[\"PR_NAME\"].str.lower() == \"Gandaki Pradesh\"].loc[:, [\"PR_NAME\", \"geometry\"]]\n",
    "\n",
    "geometry = result[\"geometry\"].values[0]\n",
    "\n",
    "shapely.to_geojson(geometry)"
   ]
  },
  {
   "cell_type": "code",
   "execution_count": null,
   "metadata": {},
   "outputs": [],
   "source": []
  },
  {
   "cell_type": "code",
   "execution_count": null,
   "metadata": {},
   "outputs": [],
   "source": []
  }
 ],
 "metadata": {
  "kernelspec": {
   "display_name": "venv",
   "language": "python",
   "name": "python3"
  },
  "language_info": {
   "codemirror_mode": {
    "name": "ipython",
    "version": 3
   },
   "file_extension": ".py",
   "mimetype": "text/x-python",
   "name": "python",
   "nbconvert_exporter": "python",
   "pygments_lexer": "ipython3",
   "version": "3.12.3"
  }
 },
 "nbformat": 4,
 "nbformat_minor": 2
}
